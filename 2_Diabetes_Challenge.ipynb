{
 "cells": [
  {
   "cell_type": "markdown",
   "metadata": {
    "id": "6DMxwdKZdaan"
   },
   "source": [
    "# Diabetes Challenge\n",
    "\n",
    "Your task today is to **analyze** the Kaggle \"Pima Indians Diabetes Database\" and to **predict** whether a patient has Diabetes or not.\n",
    "\n",
    "## Task:\n",
    "- Load the data from the database. The schema is called `diabetes`. To connect to the database you need to copy the `.env` file from the visualization or hands-on-ml repository into this repo. Explore the database, try to establish what the relationships between the tables are (1-1, 1-N, N-M). Explain to yourself and the group what data do you see and whether it makes sense. What JOINs are appropriate to use and why? \n",
    "- Use at least two different classification algorithms we have learned so far to predict Diabetes patients. \n",
    "- Discuss before you start with the modeling process which **evaluation metric** you choose and explain why.\n",
    "- Implement a GridSearchCV or RandomizedSearchCV to tune the hyperparameters of your model.\n",
    "- **Optional:** If you have time at the end, try to use sklearn's pipline module to encapsulate all the steps into a pipeline.\n",
    "\n",
    "Don't forget to split your data in train and test set. And analyze your final model on the test data. It might also be necessary to scale your data in order to improve the performance of some of the models.\n",
    "\n",
    "\n",
    "## Helpful links and advise:\n",
    "- [sklearn documentation on hyperparameter tuning](https://scikit-learn.org/stable/modules/grid_search.html#grid-search)\n",
    "- It might be helpful to check some sources on how to deal with imbalanced data. \n",
    "    * [8 Tactics to Combat Imbalanced Classes](https://machinelearningmastery.com/tactics-to-combat-imbalanced-classes-in-your-machine-learning-dataset/)\n",
    "    * [Random-Oversampling/Undersampling](https://machinelearningmastery.com/random-oversampling-and-undersampling-for-imbalanced-classification/)\n"
   ]
  },
  {
   "cell_type": "markdown",
   "metadata": {
    "id": "aFFBgjcYhrt8"
   },
   "source": [
    "# Data Description\n",
    "\n",
    "## Context\n",
    "This dataset is originally from the National Institute of Diabetes and Digestive and Kidney Diseases. The objective of the dataset is to diagnostically predict whether or not a patient has diabetes, based on certain diagnostic measurements included in the dataset. Several constraints were placed on the selection of these instances from a larger database. In particular, all patients here are females at least 21 years old of Pima Indian heritage.\n",
    "\n",
    "## Acknowledgements\n",
    "Smith, J.W., Everhart, J.E., Dickson, W.C., Knowler, W.C., & Johannes, R.S. (1988). Using the ADAP learning algorithm to forecast the onset of diabetes mellitus. In Proceedings of the Symposium on Computer Applications and Medical Care (pp. 261--265). IEEE Computer Society Press.\n",
    "\n",
    "## About this dataset\n",
    "The datasets consist of several medical predictor (independent) variables and one target (dependent) variable, Outcome. Independent variables include the number of pregnancies the patient has had, their BMI, insulin level, age, and so on. For the outcome class value 1 is interpreted as \"tested positive for diabetes\".\n",
    "\n",
    "|Column Name| Description|\n",
    "|:------------|:------------|\n",
    "|Pregnancies|Number of times pregnant|\n",
    "|Glucose|Plasma glucose concentration a 2 hours in an oral glucose tolerance test|\n",
    "|BloodPressure|Diastolic blood pressure (mm Hg)|\n",
    "|SkinThickness|Triceps skin fold thickness (mm)|\n",
    "|Insulin|2-Hour serum insulin (mu U/ml)|\n",
    "|BMI|Body mass index (weight in kg/(height in m)^2)|\n",
    "|DiabetesPedigreeFunction|  a function which scores likelihood of diabetes based on family history|\n",
    "|Age| Age (years)|\n",
    "|Outcome|Class variable (0 or 1) |"
   ]
  },
  {
   "cell_type": "code",
   "execution_count": 1,
   "metadata": {},
   "outputs": [],
   "source": [
    "import os\n",
    "from dotenv import load_dotenv\n",
    "from sqlalchemy import create_engine\n",
    "import seaborn as sns\n",
    "\n",
    "import numpy as np\n",
    "import pandas as pd\n",
    "import warnings\n",
    "import matplotlib.pyplot as plt\n",
    "import seaborn as sns\n",
    "\n",
    "\n",
    "from sklearn.pipeline import Pipeline\n",
    "from sklearn.compose import ColumnTransformer\n",
    "from sklearn.preprocessing import OneHotEncoder, StandardScaler\n",
    "from sklearn.impute import SimpleImputer\n",
    "\n",
    "from sklearn.model_selection import train_test_split\n",
    "from sklearn.model_selection import GridSearchCV\n",
    "from sklearn.model_selection import cross_val_predict\n",
    "from sklearn.metrics import accuracy_score, recall_score, precision_score\n",
    "\n",
    "from sklearn.linear_model import LogisticRegression\n",
    "\n",
    "from sklearn import set_config\n",
    "set_config(transform_output=\"pandas\")\n",
    "\n",
    "# Set random seed \n",
    "RSEED = 42\n",
    "\n",
    "warnings.filterwarnings(\"ignore\")"
   ]
  },
  {
   "cell_type": "code",
   "execution_count": 3,
   "metadata": {},
   "outputs": [],
   "source": [
    "# Read database string from .env file (no need to change anything)\n",
    "load_dotenv()\n",
    "\n",
    "DB_STRING = os.getenv('DB_STRING')\n",
    "\n",
    "db = create_engine(DB_STRING)"
   ]
  },
  {
   "cell_type": "code",
   "execution_count": null,
   "metadata": {},
   "outputs": [],
   "source": [
    "# import the data into a pandas dataframe\n",
    "query_string_1 = \"\"\"\n",
    "\n",
    "SET SCHEMA 'diabetes';\n",
    "\n",
    "\n",
    "select p.pregnancies, p.\"Age\" , p.bmi, po.diabetespedigreefunction pedigree_f, po.outcome, s.skinthickness, bm.insulin, bm.glucose, bm.bloodpressure  from patient p\n",
    "left join pedigree_outcome po on po.patientid = p.id\n",
    "left join skin s on s.patientid = p.id\n",
    "left join blood_metrics bm on bm.patientid = p.id\n",
    "where measurement_date = '2022-12-13'\n",
    "\n",
    "\n",
    "\"\"\"\n",
    "df_blood_metrics = pd.read_sql(query_string_1, db)\n",
    "\n",
    "#export the data to a csv-file\n",
    "df_blood_metrics.to_csv('blood_metrics.csv',index=False)\n",
    "df_blood_metrics"
   ]
  }
 ],
 "metadata": {
  "colab": {
   "name": "Diabetes-Challenge.ipynb",
   "provenance": []
  },
  "kernelspec": {
   "display_name": "Python 3 (ipykernel)",
   "language": "python",
   "name": "python3"
  },
  "language_info": {
   "codemirror_mode": {
    "name": "ipython",
    "version": 3
   },
   "file_extension": ".py",
   "mimetype": "text/x-python",
   "name": "python",
   "nbconvert_exporter": "python",
   "pygments_lexer": "ipython3",
   "version": "3.11.3"
  }
 },
 "nbformat": 4,
 "nbformat_minor": 4
}
